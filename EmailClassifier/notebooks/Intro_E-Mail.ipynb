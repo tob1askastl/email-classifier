{
 "cells": [
  {
   "cell_type": "code",
   "execution_count": 1,
   "id": "0d5bbb37-61b4-4023-becb-b9b1294d48b9",
   "metadata": {},
   "outputs": [],
   "source": [
    "# Regex for URL-Detection\n",
    "import re"
   ]
  },
  {
   "cell_type": "code",
   "execution_count": 2,
   "id": "6d4b6418-4d38-465b-bd62-04be525aa7e2",
   "metadata": {},
   "outputs": [],
   "source": [
    "# Read a text from a text file (in this case of an \"email\")\n",
    "def read_text_from_file(file_path):\n",
    "    # 'with open' assures that resources are closed\n",
    "    with open(file_path, 'r', encoding='utf-8') as file:\n",
    "        email_text = file.read()\n",
    "    return email_text\n",
    "\n",
    "# Count the number of URLs in a text with regex\n",
    "def count_urls(email_text):\n",
    "    urls = re.findall(r'(https?://\\S+)', email_text)\n",
    "    return len(urls), urls\n",
    "\n",
    "# Count phishing-related keywords in a text\n",
    "def count_phishing_keywords(email_text, keywords):\n",
    "    email_text_lower = email_text.lower()\n",
    "    # Dictionary for keyword-count\n",
    "    keyword_count = {}\n",
    "    \n",
    "    for word in keywords:\n",
    "        keyword_count[word] = email_text_lower.count(word)\n",
    "    \n",
    "    return keyword_count\n",
    "    \n",
    "# Calculate the length of a text (in characters)\n",
    "def get_email_length(email_text):\n",
    "    return len(email_text)\n",
    "\n",
    "# Count special characters in a text\n",
    "def count_special_chars(email_text, chars):\n",
    "    special_chars_count = {char: email_text.count(char) for char in chars}\n",
    "    return special_chars_count"
   ]
  },
  {
   "cell_type": "code",
   "execution_count": 3,
   "id": "6000326c-9ba9-49e3-846d-085bee8cc67e",
   "metadata": {},
   "outputs": [],
   "source": [
    "file_path = '../data/intro_mailtext.txt'\n",
    "phishing_keywords = ['passwort', 'account', 'konto', 'schützen', 'dringend']\n",
    "special_chars = ['!', '$', '%', '=']"
   ]
  },
  {
   "cell_type": "code",
   "execution_count": 4,
   "id": "2714f2ad-31f8-46bf-95c2-5318c64496c4",
   "metadata": {},
   "outputs": [
    {
     "name": "stdout",
     "output_type": "stream",
     "text": [
      "\n",
      "### Email Text: From: fake@phishingsite.com\n",
      "To: victim@domain.com\n",
      "Subject: Dringend: Ihr Konto wurde gesperrt!\n",
      "\n",
      "Sehr geehrter Kunde,\n",
      "\n",
      "Wir haben verdächtige Aktivitäten in Ihrem Konto festgestellt. Bitte klicken Sie auf den folgenden Link, um Ihr Passwort zu ändern und Ihr Konto zu schützen:\n",
      "http://phishingsite.com/recovery\n",
      "https://u46701922.ct.sendgrid.net/ls/click?upn=u001.bO3G-2FaeMIVe5lSdMnGjJWgTE6W-2FKKheAiBI-3D\n",
      "\n",
      "Mit freundlichen Grüßen,\n",
      "Ihr Sicherheitsteam\n",
      "\n",
      "### Number of URLs: 2, URLs: ['http://phishingsite.com/recovery', 'https://u46701922.ct.sendgrid.net/ls/click?upn=u001.bO3G-2FaeMIVe5lSdMnGjJWgTE6W-2FKKheAiBI-3D']\n",
      "\n",
      "### Found keywords: {'passwort': 1, 'account': 0, 'konto': 3, 'schützen': 1, 'dringend': 1}\n",
      "\n",
      "### Length of the email: 449\n",
      "\n",
      "### Found special characters: {'!': 1, '$': 0, '%': 0, '=': 1}\n"
     ]
    }
   ],
   "source": [
    "email_text = read_text_from_file(file_path)\n",
    "print(f'\\n### Email Text: {email_text}')\n",
    "\n",
    "url_count, urls = count_urls(email_text)\n",
    "print(f'\\n### Number of URLs: {url_count}, URLs: {urls}')\n",
    "\n",
    "keyword_count = count_phishing_keywords(email_text, phishing_keywords)\n",
    "print(f'\\n### Found keywords: {keyword_count}')\n",
    "\n",
    "email_length = get_email_length(email_text)\n",
    "print(f'\\n### Length of the email: {email_length}')\n",
    "\n",
    "special_chars_count = count_special_chars(email_text, special_chars)\n",
    "print(f'\\n### Found special characters: {special_chars_count}')"
   ]
  }
 ],
 "metadata": {
  "kernelspec": {
   "display_name": "Python 3 (ipykernel)",
   "language": "python",
   "name": "python3"
  },
  "language_info": {
   "codemirror_mode": {
    "name": "ipython",
    "version": 3
   },
   "file_extension": ".py",
   "mimetype": "text/x-python",
   "name": "python",
   "nbconvert_exporter": "python",
   "pygments_lexer": "ipython3",
   "version": "3.13.2"
  }
 },
 "nbformat": 4,
 "nbformat_minor": 5
}
